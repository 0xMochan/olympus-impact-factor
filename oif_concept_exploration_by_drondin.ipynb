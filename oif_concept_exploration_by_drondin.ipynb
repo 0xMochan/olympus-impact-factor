{
  "nbformat": 4,
  "nbformat_minor": 0,
  "metadata": {
    "colab": {
      "name": "oif_concept_exploration_by_drondin.ipynb",
      "provenance": []
    },
    "kernelspec": {
      "name": "python3",
      "display_name": "Python 3"
    },
    "language_info": {
      "name": "python"
    }
  },
  "cells": [
    {
      "cell_type": "code",
      "execution_count": null,
      "metadata": {
        "id": "M7kMx7SKW174"
      },
      "outputs": [],
      "source": [
        "!pip install --force-reinstall jsonschema==3.2.0\n",
        "!pip install web3 pycoingecko requests"
      ]
    },
    {
      "cell_type": "code",
      "source": [
        "from pycoingecko import CoinGeckoAPI\n",
        "cg = CoinGeckoAPI()\n",
        "\n",
        "gOHM_price = cg.get_price(ids='governance-ohm', vs_currencies='usd')[\"governance-ohm\"][\"usd\"]"
      ],
      "metadata": {
        "id": "-hb1EentW-x7"
      },
      "execution_count": null,
      "outputs": []
    },
    {
      "cell_type": "code",
      "source": [
        "from web3 import Web3\n",
        "import json\n",
        "\n",
        "w3_eth = Web3(Web3.HTTPProvider('https://eth-mainnet.gateway.pokt.network/v1/lb/61a7924d446ae7003aa86fb3'))\n",
        "\n",
        "erc20abi = [{\"inputs\":[{\"internalType\":\"uint256\",\"name\":\"chainId_\",\"type\":\"uint256\"}],\"payable\":\"false\",\"stateMutability\":\"nonpayable\",\"type\":\"constructor\"},{\"anonymous\":\"false\",\"inputs\":[{\"indexed\":\"true\",\"internalType\":\"address\",\"name\":\"src\",\"type\":\"address\"},{\"indexed\":\"true\",\"internalType\":\"address\",\"name\":\"guy\",\"type\":\"address\"},{\"indexed\":\"false\",\"internalType\":\"uint256\",\"name\":\"wad\",\"type\":\"uint256\"}],\"name\":\"Approval\",\"type\":\"event\"},{\"anonymous\":\"true\",\"inputs\":[{\"indexed\":\"true\",\"internalType\":\"bytes4\",\"name\":\"sig\",\"type\":\"bytes4\"},{\"indexed\":\"true\",\"internalType\":\"address\",\"name\":\"usr\",\"type\":\"address\"},{\"indexed\":\"true\",\"internalType\":\"bytes32\",\"name\":\"arg1\",\"type\":\"bytes32\"},{\"indexed\":\"true\",\"internalType\":\"bytes32\",\"name\":\"arg2\",\"type\":\"bytes32\"},{\"indexed\":\"false\",\"internalType\":\"bytes\",\"name\":\"data\",\"type\":\"bytes\"}],\"name\":\"LogNote\",\"type\":\"event\"},{\"anonymous\":\"false\",\"inputs\":[{\"indexed\":\"true\",\"internalType\":\"address\",\"name\":\"src\",\"type\":\"address\"},{\"indexed\":\"true\",\"internalType\":\"address\",\"name\":\"dst\",\"type\":\"address\"},{\"indexed\":\"false\",\"internalType\":\"uint256\",\"name\":\"wad\",\"type\":\"uint256\"}],\"name\":\"Transfer\",\"type\":\"event\"},{\"constant\":\"true\",\"inputs\":[],\"name\":\"DOMAIN_SEPARATOR\",\"outputs\":[{\"internalType\":\"bytes32\",\"name\":\"\",\"type\":\"bytes32\"}],\"payable\":\"false\",\"stateMutability\":\"view\",\"type\":\"function\"},{\"constant\":\"true\",\"inputs\":[],\"name\":\"PERMIT_TYPEHASH\",\"outputs\":[{\"internalType\":\"bytes32\",\"name\":\"\",\"type\":\"bytes32\"}],\"payable\":\"false\",\"stateMutability\":\"view\",\"type\":\"function\"},{\"constant\":\"true\",\"inputs\":[{\"internalType\":\"address\",\"name\":\"\",\"type\":\"address\"},{\"internalType\":\"address\",\"name\":\"\",\"type\":\"address\"}],\"name\":\"allowance\",\"outputs\":[{\"internalType\":\"uint256\",\"name\":\"\",\"type\":\"uint256\"}],\"payable\":\"false\",\"stateMutability\":\"view\",\"type\":\"function\"},{\"constant\":\"false\",\"inputs\":[{\"internalType\":\"address\",\"name\":\"usr\",\"type\":\"address\"},{\"internalType\":\"uint256\",\"name\":\"wad\",\"type\":\"uint256\"}],\"name\":\"approve\",\"outputs\":[{\"internalType\":\"bool\",\"name\":\"\",\"type\":\"bool\"}],\"payable\":\"false\",\"stateMutability\":\"nonpayable\",\"type\":\"function\"},{\"constant\":\"true\",\"inputs\":[{\"internalType\":\"address\",\"name\":\"\",\"type\":\"address\"}],\"name\":\"balanceOf\",\"outputs\":[{\"internalType\":\"uint256\",\"name\":\"\",\"type\":\"uint256\"}],\"payable\":\"false\",\"stateMutability\":\"view\",\"type\":\"function\"},{\"constant\":\"false\",\"inputs\":[{\"internalType\":\"address\",\"name\":\"usr\",\"type\":\"address\"},{\"internalType\":\"uint256\",\"name\":\"wad\",\"type\":\"uint256\"}],\"name\":\"burn\",\"outputs\":[],\"payable\":\"false\",\"stateMutability\":\"nonpayable\",\"type\":\"function\"},{\"constant\":\"true\",\"inputs\":[],\"name\":\"decimals\",\"outputs\":[{\"internalType\":\"uint8\",\"name\":\"\",\"type\":\"uint8\"}],\"payable\":\"false\",\"stateMutability\":\"view\",\"type\":\"function\"},{\"constant\":\"false\",\"inputs\":[{\"internalType\":\"address\",\"name\":\"guy\",\"type\":\"address\"}],\"name\":\"deny\",\"outputs\":[],\"payable\":\"false\",\"stateMutability\":\"nonpayable\",\"type\":\"function\"},{\"constant\":\"false\",\"inputs\":[{\"internalType\":\"address\",\"name\":\"usr\",\"type\":\"address\"},{\"internalType\":\"uint256\",\"name\":\"wad\",\"type\":\"uint256\"}],\"name\":\"mint\",\"outputs\":[],\"payable\":\"false\",\"stateMutability\":\"nonpayable\",\"type\":\"function\"},{\"constant\":\"false\",\"inputs\":[{\"internalType\":\"address\",\"name\":\"src\",\"type\":\"address\"},{\"internalType\":\"address\",\"name\":\"dst\",\"type\":\"address\"},{\"internalType\":\"uint256\",\"name\":\"wad\",\"type\":\"uint256\"}],\"name\":\"move\",\"outputs\":[],\"payable\":\"false\",\"stateMutability\":\"nonpayable\",\"type\":\"function\"},{\"constant\":\"true\",\"inputs\":[],\"name\":\"name\",\"outputs\":[{\"internalType\":\"string\",\"name\":\"\",\"type\":\"string\"}],\"payable\":\"false\",\"stateMutability\":\"view\",\"type\":\"function\"},{\"constant\":\"true\",\"inputs\":[{\"internalType\":\"address\",\"name\":\"\",\"type\":\"address\"}],\"name\":\"nonces\",\"outputs\":[{\"internalType\":\"uint256\",\"name\":\"\",\"type\":\"uint256\"}],\"payable\":\"false\",\"stateMutability\":\"view\",\"type\":\"function\"},{\"constant\":\"false\",\"inputs\":[{\"internalType\":\"address\",\"name\":\"holder\",\"type\":\"address\"},{\"internalType\":\"address\",\"name\":\"spender\",\"type\":\"address\"},{\"internalType\":\"uint256\",\"name\":\"nonce\",\"type\":\"uint256\"},{\"internalType\":\"uint256\",\"name\":\"expiry\",\"type\":\"uint256\"},{\"internalType\":\"bool\",\"name\":\"allowed\",\"type\":\"bool\"},{\"internalType\":\"uint8\",\"name\":\"v\",\"type\":\"uint8\"},{\"internalType\":\"bytes32\",\"name\":\"r\",\"type\":\"bytes32\"},{\"internalType\":\"bytes32\",\"name\":\"s\",\"type\":\"bytes32\"}],\"name\":\"permit\",\"outputs\":[],\"payable\":\"false\",\"stateMutability\":\"nonpayable\",\"type\":\"function\"},{\"constant\":\"false\",\"inputs\":[{\"internalType\":\"address\",\"name\":\"usr\",\"type\":\"address\"},{\"internalType\":\"uint256\",\"name\":\"wad\",\"type\":\"uint256\"}],\"name\":\"pull\",\"outputs\":[],\"payable\":\"false\",\"stateMutability\":\"nonpayable\",\"type\":\"function\"},{\"constant\":\"false\",\"inputs\":[{\"internalType\":\"address\",\"name\":\"usr\",\"type\":\"address\"},{\"internalType\":\"uint256\",\"name\":\"wad\",\"type\":\"uint256\"}],\"name\":\"push\",\"outputs\":[],\"payable\":\"false\",\"stateMutability\":\"nonpayable\",\"type\":\"function\"},{\"constant\":\"false\",\"inputs\":[{\"internalType\":\"address\",\"name\":\"guy\",\"type\":\"address\"}],\"name\":\"rely\",\"outputs\":[],\"payable\":\"false\",\"stateMutability\":\"nonpayable\",\"type\":\"function\"},{\"constant\":\"true\",\"inputs\":[],\"name\":\"symbol\",\"outputs\":[{\"internalType\":\"string\",\"name\":\"\",\"type\":\"string\"}],\"payable\":\"false\",\"stateMutability\":\"view\",\"type\":\"function\"},{\"constant\":\"true\",\"inputs\":[],\"name\":\"totalSupply\",\"outputs\":[{\"internalType\":\"uint256\",\"name\":\"\",\"type\":\"uint256\"}],\"payable\":\"false\",\"stateMutability\":\"view\",\"type\":\"function\"},{\"constant\":\"false\",\"inputs\":[{\"internalType\":\"address\",\"name\":\"dst\",\"type\":\"address\"},{\"internalType\":\"uint256\",\"name\":\"wad\",\"type\":\"uint256\"}],\"name\":\"transfer\",\"outputs\":[{\"internalType\":\"bool\",\"name\":\"\",\"type\":\"bool\"}],\"payable\":\"false\",\"stateMutability\":\"nonpayable\",\"type\":\"function\"},{\"constant\":\"false\",\"inputs\":[{\"internalType\":\"address\",\"name\":\"src\",\"type\":\"address\"},{\"internalType\":\"address\",\"name\":\"dst\",\"type\":\"address\"},{\"internalType\":\"uint256\",\"name\":\"wad\",\"type\":\"uint256\"}],\"name\":\"transferFrom\",\"outputs\":[{\"internalType\":\"bool\",\"name\":\"\",\"type\":\"bool\"}],\"payable\":\"false\",\"stateMutability\":\"nonpayable\",\"type\":\"function\"},{\"constant\":\"true\",\"inputs\":[],\"name\":\"version\",\"outputs\":[{\"internalType\":\"string\",\"name\":\"\",\"type\":\"string\"}],\"payable\":\"false\",\"stateMutability\":\"view\",\"type\":\"function\"},{\"constant\":\"true\",\"inputs\":[{\"internalType\":\"address\",\"name\":\"\",\"type\":\"address\"}],\"name\":\"wards\",\"outputs\":[{\"internalType\":\"uint256\",\"name\":\"\",\"type\":\"uint256\"}],\"payable\":\"false\",\"stateMutability\":\"view\",\"type\":\"function\"}]\n",
        "\n",
        "gOHM_address_eth = \"0x0ab87046fBb341D058F17CBC4c1133F25a20a52f\"\n",
        "gOHM_contract_eth = w3_eth.eth.contract(gOHM_address_eth, abi=erc20abi)\n",
        "\n",
        "pool6_address = \"0x59Bd6774C22486D9F4FAb2D448dCe4F892a9Ae25\"\n",
        "pool6_balance = gOHM_contract_eth.functions.balanceOf(pool6_address).call() / (10 ** 18)\n",
        "\n",
        "pool18_address = \"0x6eDa4b59BaC787933A4A21b65672539ceF6ec97b\"\n",
        "pool18_balance = gOHM_contract_eth.functions.balanceOf(pool18_address).call() / (10 ** 18)\n",
        "\n",
        "pool36_address = \"0xB1748C79709f4Ba2Dd82834B8c82D4a505003f27\"\n",
        "pool36_balance = gOHM_contract_eth.functions.balanceOf(pool36_address).call() / (10 ** 18)\n",
        "\n",
        "pool27_address = \"0xA2f8bE58F39069D5F69F609B6Ab9aB865a8AcA53\"\n",
        "pool27_balance = gOHM_contract_eth.functions.balanceOf(pool27_address).call() / (10 ** 18)\n",
        "\n",
        "total_rari_deployed = pool6_balance+pool18_balance+pool36_balance+pool27_balance"
      ],
      "metadata": {
        "id": "n3EnjK3dXCIt"
      },
      "execution_count": null,
      "outputs": []
    },
    {
      "cell_type": "code",
      "source": [
        "from web3 import Web3\n",
        "import json\n",
        "\n",
        "w3_arbi = Web3(Web3.HTTPProvider('https://arb1.arbitrum.io/rpc'))\n",
        "\n",
        "vestaabi = [{\"anonymous\":\"false\",\"inputs\":[{\"indexed\":\"false\",\"internalType\":\"address\",\"name\":\"_collSurplusPoolAddress\",\"type\":\"address\"}],\"name\":\"CollSurplusPoolAddressChanged\",\"type\":\"event\"},{\"anonymous\":\"false\",\"inputs\":[{\"indexed\":\"false\",\"internalType\":\"address\",\"name\":\"_gasPoolAddress\",\"type\":\"address\"}],\"name\":\"GasPoolAddressChanged\",\"type\":\"event\"},{\"anonymous\":\"false\",\"inputs\":[{\"indexed\":\"true\",\"internalType\":\"address\",\"name\":\"previousOwner\",\"type\":\"address\"},{\"indexed\":\"true\",\"internalType\":\"address\",\"name\":\"newOwner\",\"type\":\"address\"}],\"name\":\"OwnershipTransferred\",\"type\":\"event\"},{\"anonymous\":\"false\",\"inputs\":[{\"indexed\":\"false\",\"internalType\":\"address\",\"name\":\"_sortedTrovesAddress\",\"type\":\"address\"}],\"name\":\"SortedTrovesAddressChanged\",\"type\":\"event\"},{\"anonymous\":\"false\",\"inputs\":[{\"indexed\":\"false\",\"internalType\":\"address\",\"name\":\"_stabilityPoolAddress\",\"type\":\"address\"}],\"name\":\"StabilityPoolAddressChanged\",\"type\":\"event\"},{\"anonymous\":\"false\",\"inputs\":[{\"indexed\":\"true\",\"internalType\":\"address\",\"name\":\"_asset\",\"type\":\"address\"},{\"indexed\":\"true\",\"internalType\":\"address\",\"name\":\"_borrower\",\"type\":\"address\"},{\"indexed\":\"false\",\"internalType\":\"uint256\",\"name\":\"arrayIndex\",\"type\":\"uint256\"}],\"name\":\"TroveCreated\",\"type\":\"event\"},{\"anonymous\":\"false\",\"inputs\":[{\"indexed\":\"false\",\"internalType\":\"address\",\"name\":\"_newTroveManagerAddress\",\"type\":\"address\"}],\"name\":\"TroveManagerAddressChanged\",\"type\":\"event\"},{\"anonymous\":\"false\",\"inputs\":[{\"indexed\":\"true\",\"internalType\":\"address\",\"name\":\"_asset\",\"type\":\"address\"},{\"indexed\":\"true\",\"internalType\":\"address\",\"name\":\"_borrower\",\"type\":\"address\"},{\"indexed\":\"false\",\"internalType\":\"uint256\",\"name\":\"_debt\",\"type\":\"uint256\"},{\"indexed\":\"false\",\"internalType\":\"uint256\",\"name\":\"_coll\",\"type\":\"uint256\"},{\"indexed\":\"false\",\"internalType\":\"uint256\",\"name\":\"stake\",\"type\":\"uint256\"},{\"indexed\":\"false\",\"internalType\":\"enum BorrowerOperations.BorrowerOperation\",\"name\":\"operation\",\"type\":\"uint8\"}],\"name\":\"TroveUpdated\",\"type\":\"event\"},{\"anonymous\":\"false\",\"inputs\":[{\"indexed\":\"false\",\"internalType\":\"address\",\"name\":\"_VSTAStakingAddress\",\"type\":\"address\"}],\"name\":\"VSTAStakingAddressChanged\",\"type\":\"event\"},{\"anonymous\":\"false\",\"inputs\":[{\"indexed\":\"true\",\"internalType\":\"address\",\"name\":\"_asset\",\"type\":\"address\"},{\"indexed\":\"true\",\"internalType\":\"address\",\"name\":\"_borrower\",\"type\":\"address\"},{\"indexed\":\"false\",\"internalType\":\"uint256\",\"name\":\"_VSTFee\",\"type\":\"uint256\"}],\"name\":\"VSTBorrowingFeePaid\",\"type\":\"event\"},{\"anonymous\":\"false\",\"inputs\":[{\"indexed\":\"false\",\"internalType\":\"address\",\"name\":\"_vstTokenAddress\",\"type\":\"address\"}],\"name\":\"VSTTokenAddressChanged\",\"type\":\"event\"},{\"anonymous\":\"false\",\"inputs\":[{\"indexed\":\"true\",\"internalType\":\"address\",\"name\":\"newAddress\",\"type\":\"address\"}],\"name\":\"VaultParametersBaseChanged\",\"type\":\"event\"},{\"inputs\":[],\"name\":\"DECIMAL_PRECISION\",\"outputs\":[{\"internalType\":\"uint256\",\"name\":\"\",\"type\":\"uint256\"}],\"stateMutability\":\"view\",\"type\":\"function\"},{\"inputs\":[],\"name\":\"ETH_REF_ADDRESS\",\"outputs\":[{\"internalType\":\"address\",\"name\":\"\",\"type\":\"address\"}],\"stateMutability\":\"view\",\"type\":\"function\"},{\"inputs\":[],\"name\":\"NAME\",\"outputs\":[{\"internalType\":\"string\",\"name\":\"\",\"type\":\"string\"}],\"stateMutability\":\"view\",\"type\":\"function\"},{\"inputs\":[],\"name\":\"VSTAStaking\",\"outputs\":[{\"internalType\":\"contract IVSTAStaking\",\"name\":\"\",\"type\":\"address\"}],\"stateMutability\":\"view\",\"type\":\"function\"},{\"inputs\":[],\"name\":\"VSTAStakingAddress\",\"outputs\":[{\"internalType\":\"address\",\"name\":\"\",\"type\":\"address\"}],\"stateMutability\":\"view\",\"type\":\"function\"},{\"inputs\":[],\"name\":\"VSTToken\",\"outputs\":[{\"internalType\":\"contract IVSTToken\",\"name\":\"\",\"type\":\"address\"}],\"stateMutability\":\"view\",\"type\":\"function\"},{\"inputs\":[{\"internalType\":\"address\",\"name\":\"_asset\",\"type\":\"address\"},{\"internalType\":\"uint256\",\"name\":\"_assetSent\",\"type\":\"uint256\"},{\"internalType\":\"address\",\"name\":\"_upperHint\",\"type\":\"address\"},{\"internalType\":\"address\",\"name\":\"_lowerHint\",\"type\":\"address\"}],\"name\":\"addColl\",\"outputs\":[],\"stateMutability\":\"payable\",\"type\":\"function\"},{\"inputs\":[{\"internalType\":\"address\",\"name\":\"_asset\",\"type\":\"address\"},{\"internalType\":\"uint256\",\"name\":\"_assetSent\",\"type\":\"uint256\"},{\"internalType\":\"uint256\",\"name\":\"_maxFeePercentage\",\"type\":\"uint256\"},{\"internalType\":\"uint256\",\"name\":\"_collWithdrawal\",\"type\":\"uint256\"},{\"internalType\":\"uint256\",\"name\":\"_VSTChange\",\"type\":\"uint256\"},{\"internalType\":\"bool\",\"name\":\"_isDebtIncrease\",\"type\":\"bool\"},{\"internalType\":\"address\",\"name\":\"_upperHint\",\"type\":\"address\"},{\"internalType\":\"address\",\"name\":\"_lowerHint\",\"type\":\"address\"}],\"name\":\"adjustTrove\",\"outputs\":[],\"stateMutability\":\"payable\",\"type\":\"function\"},{\"inputs\":[{\"internalType\":\"address\",\"name\":\"_asset\",\"type\":\"address\"}],\"name\":\"claimCollateral\",\"outputs\":[],\"stateMutability\":\"nonpayable\",\"type\":\"function\"},{\"inputs\":[{\"internalType\":\"address\",\"name\":\"_asset\",\"type\":\"address\"}],\"name\":\"closeTrove\",\"outputs\":[],\"stateMutability\":\"nonpayable\",\"type\":\"function\"},{\"inputs\":[{\"internalType\":\"address\",\"name\":\"_asset\",\"type\":\"address\"},{\"internalType\":\"uint256\",\"name\":\"_debt\",\"type\":\"uint256\"}],\"name\":\"getCompositeDebt\",\"outputs\":[{\"internalType\":\"uint256\",\"name\":\"\",\"type\":\"uint256\"}],\"stateMutability\":\"view\",\"type\":\"function\"},{\"inputs\":[{\"internalType\":\"address\",\"name\":\"_asset\",\"type\":\"address\"}],\"name\":\"getEntireSystemColl\",\"outputs\":[{\"internalType\":\"uint256\",\"name\":\"entireSystemColl\",\"type\":\"uint256\"}],\"stateMutability\":\"view\",\"type\":\"function\"},{\"inputs\":[{\"internalType\":\"address\",\"name\":\"_asset\",\"type\":\"address\"}],\"name\":\"getEntireSystemDebt\",\"outputs\":[{\"internalType\":\"uint256\",\"name\":\"entireSystemDebt\",\"type\":\"uint256\"}],\"stateMutability\":\"view\",\"type\":\"function\"},{\"inputs\":[],\"name\":\"isInitialized\",\"outputs\":[{\"internalType\":\"bool\",\"name\":\"\",\"type\":\"bool\"}],\"stateMutability\":\"view\",\"type\":\"function\"},{\"inputs\":[{\"internalType\":\"address\",\"name\":\"_asset\",\"type\":\"address\"},{\"internalType\":\"uint256\",\"name\":\"_amountMoved\",\"type\":\"uint256\"},{\"internalType\":\"address\",\"name\":\"_borrower\",\"type\":\"address\"},{\"internalType\":\"address\",\"name\":\"_upperHint\",\"type\":\"address\"},{\"internalType\":\"address\",\"name\":\"_lowerHint\",\"type\":\"address\"}],\"name\":\"moveETHGainToTrove\",\"outputs\":[],\"stateMutability\":\"payable\",\"type\":\"function\"},{\"inputs\":[{\"internalType\":\"address\",\"name\":\"_asset\",\"type\":\"address\"},{\"internalType\":\"uint256\",\"name\":\"_tokenAmount\",\"type\":\"uint256\"},{\"internalType\":\"uint256\",\"name\":\"_maxFeePercentage\",\"type\":\"uint256\"},{\"internalType\":\"uint256\",\"name\":\"_VSTAmount\",\"type\":\"uint256\"},{\"internalType\":\"address\",\"name\":\"_upperHint\",\"type\":\"address\"},{\"internalType\":\"address\",\"name\":\"_lowerHint\",\"type\":\"address\"}],\"name\":\"openTrove\",\"outputs\":[],\"stateMutability\":\"payable\",\"type\":\"function\"},{\"inputs\":[],\"name\":\"owner\",\"outputs\":[{\"internalType\":\"address\",\"name\":\"\",\"type\":\"address\"}],\"stateMutability\":\"view\",\"type\":\"function\"},{\"inputs\":[],\"name\":\"renounceOwnership\",\"outputs\":[],\"stateMutability\":\"nonpayable\",\"type\":\"function\"},{\"inputs\":[{\"internalType\":\"address\",\"name\":\"_asset\",\"type\":\"address\"},{\"internalType\":\"uint256\",\"name\":\"_VSTAmount\",\"type\":\"uint256\"},{\"internalType\":\"address\",\"name\":\"_upperHint\",\"type\":\"address\"},{\"internalType\":\"address\",\"name\":\"_lowerHint\",\"type\":\"address\"}],\"name\":\"repayVST\",\"outputs\":[],\"stateMutability\":\"nonpayable\",\"type\":\"function\"},{\"inputs\":[{\"internalType\":\"address\",\"name\":\"_troveManagerAddress\",\"type\":\"address\"},{\"internalType\":\"address\",\"name\":\"_stabilityPoolManagerAddress\",\"type\":\"address\"},{\"internalType\":\"address\",\"name\":\"_gasPoolAddress\",\"type\":\"address\"},{\"internalType\":\"address\",\"name\":\"_collSurplusPoolAddress\",\"type\":\"address\"},{\"internalType\":\"address\",\"name\":\"_sortedTrovesAddress\",\"type\":\"address\"},{\"internalType\":\"address\",\"name\":\"_vstTokenAddress\",\"type\":\"address\"},{\"internalType\":\"address\",\"name\":\"_VSTAStakingAddress\",\"type\":\"address\"},{\"internalType\":\"address\",\"name\":\"_vestaParamsAddress\",\"type\":\"address\"}],\"name\":\"setAddresses\",\"outputs\":[],\"stateMutability\":\"nonpayable\",\"type\":\"function\"},{\"inputs\":[{\"internalType\":\"address\",\"name\":\"_vaultParams\",\"type\":\"address\"}],\"name\":\"setVestaParameters\",\"outputs\":[],\"stateMutability\":\"nonpayable\",\"type\":\"function\"},{\"inputs\":[],\"name\":\"sortedTroves\",\"outputs\":[{\"internalType\":\"contract ISortedTroves\",\"name\":\"\",\"type\":\"address\"}],\"stateMutability\":\"view\",\"type\":\"function\"},{\"inputs\":[{\"internalType\":\"address\",\"name\":\"newOwner\",\"type\":\"address\"}],\"name\":\"transferOwnership\",\"outputs\":[],\"stateMutability\":\"nonpayable\",\"type\":\"function\"},{\"inputs\":[],\"name\":\"troveManager\",\"outputs\":[{\"internalType\":\"contract ITroveManager\",\"name\":\"\",\"type\":\"address\"}],\"stateMutability\":\"view\",\"type\":\"function\"},{\"inputs\":[],\"name\":\"vestaParams\",\"outputs\":[{\"internalType\":\"contract IVestaParameters\",\"name\":\"\",\"type\":\"address\"}],\"stateMutability\":\"view\",\"type\":\"function\"},{\"inputs\":[{\"internalType\":\"address\",\"name\":\"_asset\",\"type\":\"address\"},{\"internalType\":\"uint256\",\"name\":\"_collWithdrawal\",\"type\":\"uint256\"},{\"internalType\":\"address\",\"name\":\"_upperHint\",\"type\":\"address\"},{\"internalType\":\"address\",\"name\":\"_lowerHint\",\"type\":\"address\"}],\"name\":\"withdrawColl\",\"outputs\":[],\"stateMutability\":\"nonpayable\",\"type\":\"function\"},{\"inputs\":[{\"internalType\":\"address\",\"name\":\"_asset\",\"type\":\"address\"},{\"internalType\":\"uint256\",\"name\":\"_maxFeePercentage\",\"type\":\"uint256\"},{\"internalType\":\"uint256\",\"name\":\"_VSTAmount\",\"type\":\"uint256\"},{\"internalType\":\"address\",\"name\":\"_upperHint\",\"type\":\"address\"},{\"internalType\":\"address\",\"name\":\"_lowerHint\",\"type\":\"address\"}],\"name\":\"withdrawVST\",\"outputs\":[],\"stateMutability\":\"nonpayable\",\"type\":\"function\"}]\n",
        "\n",
        "vesta_address_arbitrum = \"0x3eEDF348919D130954929d4ff62D626f26ADBFa2\"\n",
        "gOHM_address_arbitrum = \"0x8D9bA570D6cb60C7e3e0F31343Efe75AB8E65FB1\"\n",
        "\n",
        "vesta_contract_arbitrum = w3_arbi.eth.contract(vesta_address_arbitrum, abi=vestaabi)\n",
        "vesta_balance_arbitrum = vesta_contract_arbitrum.functions.getEntireSystemColl(gOHM_address_arbitrum).call() / (10 ** 18)"
      ],
      "metadata": {
        "id": "9CpG8isTXCLW"
      },
      "execution_count": null,
      "outputs": []
    },
    {
      "cell_type": "code",
      "source": [
        "total_collateral = total_rari_deployed + vesta_balance_arbitrum\n",
        "total_collateral_usd = total_collateral * gOHM_price"
      ],
      "metadata": {
        "id": "HXBOvDooXCN4"
      },
      "execution_count": null,
      "outputs": []
    },
    {
      "cell_type": "code",
      "source": [
        "print(f\"Total Deployed in Rari {total_rari_deployed}\")\n",
        "print(f\"Total Deployed in Vesta {vesta_balance_arbitrum}\")\n",
        "\n",
        "print(f\"Total USD Collateral {total_collateral_usd}\")"
      ],
      "metadata": {
        "id": "P8nhdheZXCSQ"
      },
      "execution_count": null,
      "outputs": []
    },
    {
      "cell_type": "code",
      "source": [
        "import requests\n",
        "\n",
        "\n",
        "def run_graph_query(graph, query):\n",
        "    request = requests.post(graph, json={'query': query})\n",
        "    if request.status_code == 200:\n",
        "        return request.json()\n",
        "    else:\n",
        "        raise Exception('Query failed. return code is {}.      {}'.format(request.status_code, query))\n",
        "\n",
        "\n",
        "# The Graph query - Query aave for a list of the last 10 flash loans by time stamp\n",
        "lp_pairs_query = \"\"\"\n",
        "{\n",
        "  lpPairs(first: 1000) {\n",
        "    id\n",
        "    name\n",
        "  }\n",
        "}\n",
        "\"\"\"\n",
        "\n",
        "endpoints = [\n",
        "    'https://api.thegraph.com/subgraphs/name/drondin/olympus-liquidity-ethereum',\n",
        "    #'https://api.thegraph.com/subgraphs/name/drondin/olympus-liquidity-avalanche'\n",
        "]\n",
        "\n",
        "total_volume = 0\n",
        "total_fees = 0\n",
        "\n",
        "for endpoint in endpoints:\n",
        "  lp_pairs = run_graph_query(endpoint, lp_pairs_query)\n",
        "\n",
        "  for lp in lp_pairs[\"data\"][\"lpPairs\"]:\n",
        "    lp_volume = 0\n",
        "    lp_fees = 0\n",
        "\n",
        "    pair_volume_query = \"\"\"\n",
        "    {\n",
        "      dailyVolumes(orderBy: timestamp, orderDirection:desc, where:{lp:\\\"\"\"\"+str(lp[\"id\"])+\"\"\"\"}, first:30) {\n",
        "        volume\n",
        "        feesEarned\n",
        "      }\n",
        "    }\n",
        "    \"\"\"\n",
        "    pair_volume_daily = run_graph_query(endpoint, pair_volume_query)\n",
        "\n",
        "    for day in pair_volume_daily[\"data\"][\"dailyVolumes\"]:\n",
        "      lp_volume += float(day[\"volume\"])\n",
        "      lp_fees += float(day[\"feesEarned\"])\n",
        "\n",
        "    total_volume += lp_volume\n",
        "    total_fees += lp_fees\n",
        "\n",
        "total_liquidity = 0\n",
        "\n",
        "for endpoint in endpoints:\n",
        "  lp_pairs = run_graph_query(endpoint, lp_pairs_query)\n",
        "\n",
        "  for lp in lp_pairs[\"data\"][\"lpPairs\"]:\n",
        "    lp_liquidity = 0\n",
        "    \n",
        "    pair_liquidity_query = \"\"\"\n",
        "    {\n",
        "      dailyLiquidities(orderBy: timestamp, orderDirection:desc, where:{lp:\\\"\"\"\"+str(lp[\"id\"])+\"\"\"\"}, first:1) {\n",
        "        liquidity\n",
        "      }\n",
        "    }\n",
        "    \"\"\"\n",
        "    pair_liquidity_daily = run_graph_query(endpoint, pair_liquidity_query)\n",
        "\n",
        "    for day in pair_liquidity_daily[\"data\"][\"dailyLiquidities\"]:\n",
        "      lp_liquidity += float(day[\"liquidity\"])\n",
        "\n",
        "    total_liquidity += lp_liquidity"
      ],
      "metadata": {
        "id": "jIIf02KGXCUq"
      },
      "execution_count": null,
      "outputs": []
    },
    {
      "cell_type": "code",
      "source": [
        "print(f\"Total Volume last 30D: {total_volume}\")\n",
        "print(f\"Total Fees last 30D: {total_fees}\")\n",
        "print(f\"Total Liquidity: {total_liquidity}\")"
      ],
      "metadata": {
        "id": "LkZoaYonXQ86"
      },
      "execution_count": null,
      "outputs": []
    }
  ]
}